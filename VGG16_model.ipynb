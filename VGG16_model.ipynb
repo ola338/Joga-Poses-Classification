{
  "nbformat": 4,
  "nbformat_minor": 0,
  "metadata": {
    "accelerator": "GPU",
    "colab": {
      "name": "VGG16_model.ipynb",
      "provenance": [],
      "collapsed_sections": []
    },
    "kernelspec": {
      "display_name": "Python 3",
      "language": "python",
      "name": "python3"
    },
    "language_info": {
      "codemirror_mode": {
        "name": "ipython",
        "version": 3
      },
      "file_extension": ".py",
      "mimetype": "text/x-python",
      "name": "python",
      "nbconvert_exporter": "python",
      "pygments_lexer": "ipython3",
      "version": "3.7.1"
    },
    "pycharm": {
      "stem_cell": {
        "cell_type": "raw",
        "source": [],
        "metadata": {
          "collapsed": false
        }
      }
    },
    "widgets": {
      "application/vnd.jupyter.widget-state+json": {
        "1f3ff0f218fd4bbb892e2eff1326e0a6": {
          "model_module": "@jupyter-widgets/controls",
          "model_name": "HBoxModel",
          "model_module_version": "1.5.0",
          "state": {
            "_view_name": "HBoxView",
            "_dom_classes": [],
            "_model_name": "HBoxModel",
            "_view_module": "@jupyter-widgets/controls",
            "_model_module_version": "1.5.0",
            "_view_count": null,
            "_view_module_version": "1.5.0",
            "box_style": "",
            "layout": "IPY_MODEL_92f068c08ab84ff78813c76c409f2be8",
            "_model_module": "@jupyter-widgets/controls",
            "children": [
              "IPY_MODEL_6b6816dbed2c49f9b7d0152dede103dd",
              "IPY_MODEL_5beef7641cdb41c094341c60630ef5f4",
              "IPY_MODEL_453a979dd50047ab8bc166a9de9c1fda"
            ]
          }
        },
        "92f068c08ab84ff78813c76c409f2be8": {
          "model_module": "@jupyter-widgets/base",
          "model_name": "LayoutModel",
          "model_module_version": "1.2.0",
          "state": {
            "_view_name": "LayoutView",
            "grid_template_rows": null,
            "right": null,
            "justify_content": null,
            "_view_module": "@jupyter-widgets/base",
            "overflow": null,
            "_model_module_version": "1.2.0",
            "_view_count": null,
            "flex_flow": null,
            "width": null,
            "min_width": null,
            "border": null,
            "align_items": null,
            "bottom": null,
            "_model_module": "@jupyter-widgets/base",
            "top": null,
            "grid_column": null,
            "overflow_y": null,
            "overflow_x": null,
            "grid_auto_flow": null,
            "grid_area": null,
            "grid_template_columns": null,
            "flex": null,
            "_model_name": "LayoutModel",
            "justify_items": null,
            "grid_row": null,
            "max_height": null,
            "align_content": null,
            "visibility": null,
            "align_self": null,
            "height": null,
            "min_height": null,
            "padding": null,
            "grid_auto_rows": null,
            "grid_gap": null,
            "max_width": null,
            "order": null,
            "_view_module_version": "1.2.0",
            "grid_template_areas": null,
            "object_position": null,
            "object_fit": null,
            "grid_auto_columns": null,
            "margin": null,
            "display": null,
            "left": null
          }
        },
        "6b6816dbed2c49f9b7d0152dede103dd": {
          "model_module": "@jupyter-widgets/controls",
          "model_name": "HTMLModel",
          "model_module_version": "1.5.0",
          "state": {
            "_view_name": "HTMLView",
            "style": "IPY_MODEL_c2766908856047a1bbb12c0da53e3ad4",
            "_dom_classes": [],
            "description": "",
            "_model_name": "HTMLModel",
            "placeholder": "​",
            "_view_module": "@jupyter-widgets/controls",
            "_model_module_version": "1.5.0",
            "value": "100%",
            "_view_count": null,
            "_view_module_version": "1.5.0",
            "description_tooltip": null,
            "_model_module": "@jupyter-widgets/controls",
            "layout": "IPY_MODEL_c89f377bc4a6486ab4dfe499c0e982b3"
          }
        },
        "5beef7641cdb41c094341c60630ef5f4": {
          "model_module": "@jupyter-widgets/controls",
          "model_name": "FloatProgressModel",
          "model_module_version": "1.5.0",
          "state": {
            "_view_name": "ProgressView",
            "style": "IPY_MODEL_c74c0a4015e4441ea36d05849ef29437",
            "_dom_classes": [],
            "description": "",
            "_model_name": "FloatProgressModel",
            "bar_style": "success",
            "max": 553433881,
            "_view_module": "@jupyter-widgets/controls",
            "_model_module_version": "1.5.0",
            "value": 553433881,
            "_view_count": null,
            "_view_module_version": "1.5.0",
            "orientation": "horizontal",
            "min": 0,
            "description_tooltip": null,
            "_model_module": "@jupyter-widgets/controls",
            "layout": "IPY_MODEL_8ab1b4e92cb944b1ab774a045039d635"
          }
        },
        "453a979dd50047ab8bc166a9de9c1fda": {
          "model_module": "@jupyter-widgets/controls",
          "model_name": "HTMLModel",
          "model_module_version": "1.5.0",
          "state": {
            "_view_name": "HTMLView",
            "style": "IPY_MODEL_f6b6aee13f344e6383147f217540e311",
            "_dom_classes": [],
            "description": "",
            "_model_name": "HTMLModel",
            "placeholder": "​",
            "_view_module": "@jupyter-widgets/controls",
            "_model_module_version": "1.5.0",
            "value": " 528M/528M [00:05&lt;00:00, 102MB/s]",
            "_view_count": null,
            "_view_module_version": "1.5.0",
            "description_tooltip": null,
            "_model_module": "@jupyter-widgets/controls",
            "layout": "IPY_MODEL_0a8052f9b0fd4919b8d66e6e26d1175f"
          }
        },
        "c2766908856047a1bbb12c0da53e3ad4": {
          "model_module": "@jupyter-widgets/controls",
          "model_name": "DescriptionStyleModel",
          "model_module_version": "1.5.0",
          "state": {
            "_view_name": "StyleView",
            "_model_name": "DescriptionStyleModel",
            "description_width": "",
            "_view_module": "@jupyter-widgets/base",
            "_model_module_version": "1.5.0",
            "_view_count": null,
            "_view_module_version": "1.2.0",
            "_model_module": "@jupyter-widgets/controls"
          }
        },
        "c89f377bc4a6486ab4dfe499c0e982b3": {
          "model_module": "@jupyter-widgets/base",
          "model_name": "LayoutModel",
          "model_module_version": "1.2.0",
          "state": {
            "_view_name": "LayoutView",
            "grid_template_rows": null,
            "right": null,
            "justify_content": null,
            "_view_module": "@jupyter-widgets/base",
            "overflow": null,
            "_model_module_version": "1.2.0",
            "_view_count": null,
            "flex_flow": null,
            "width": null,
            "min_width": null,
            "border": null,
            "align_items": null,
            "bottom": null,
            "_model_module": "@jupyter-widgets/base",
            "top": null,
            "grid_column": null,
            "overflow_y": null,
            "overflow_x": null,
            "grid_auto_flow": null,
            "grid_area": null,
            "grid_template_columns": null,
            "flex": null,
            "_model_name": "LayoutModel",
            "justify_items": null,
            "grid_row": null,
            "max_height": null,
            "align_content": null,
            "visibility": null,
            "align_self": null,
            "height": null,
            "min_height": null,
            "padding": null,
            "grid_auto_rows": null,
            "grid_gap": null,
            "max_width": null,
            "order": null,
            "_view_module_version": "1.2.0",
            "grid_template_areas": null,
            "object_position": null,
            "object_fit": null,
            "grid_auto_columns": null,
            "margin": null,
            "display": null,
            "left": null
          }
        },
        "c74c0a4015e4441ea36d05849ef29437": {
          "model_module": "@jupyter-widgets/controls",
          "model_name": "ProgressStyleModel",
          "model_module_version": "1.5.0",
          "state": {
            "_view_name": "StyleView",
            "_model_name": "ProgressStyleModel",
            "description_width": "",
            "_view_module": "@jupyter-widgets/base",
            "_model_module_version": "1.5.0",
            "_view_count": null,
            "_view_module_version": "1.2.0",
            "bar_color": null,
            "_model_module": "@jupyter-widgets/controls"
          }
        },
        "8ab1b4e92cb944b1ab774a045039d635": {
          "model_module": "@jupyter-widgets/base",
          "model_name": "LayoutModel",
          "model_module_version": "1.2.0",
          "state": {
            "_view_name": "LayoutView",
            "grid_template_rows": null,
            "right": null,
            "justify_content": null,
            "_view_module": "@jupyter-widgets/base",
            "overflow": null,
            "_model_module_version": "1.2.0",
            "_view_count": null,
            "flex_flow": null,
            "width": null,
            "min_width": null,
            "border": null,
            "align_items": null,
            "bottom": null,
            "_model_module": "@jupyter-widgets/base",
            "top": null,
            "grid_column": null,
            "overflow_y": null,
            "overflow_x": null,
            "grid_auto_flow": null,
            "grid_area": null,
            "grid_template_columns": null,
            "flex": null,
            "_model_name": "LayoutModel",
            "justify_items": null,
            "grid_row": null,
            "max_height": null,
            "align_content": null,
            "visibility": null,
            "align_self": null,
            "height": null,
            "min_height": null,
            "padding": null,
            "grid_auto_rows": null,
            "grid_gap": null,
            "max_width": null,
            "order": null,
            "_view_module_version": "1.2.0",
            "grid_template_areas": null,
            "object_position": null,
            "object_fit": null,
            "grid_auto_columns": null,
            "margin": null,
            "display": null,
            "left": null
          }
        },
        "f6b6aee13f344e6383147f217540e311": {
          "model_module": "@jupyter-widgets/controls",
          "model_name": "DescriptionStyleModel",
          "model_module_version": "1.5.0",
          "state": {
            "_view_name": "StyleView",
            "_model_name": "DescriptionStyleModel",
            "description_width": "",
            "_view_module": "@jupyter-widgets/base",
            "_model_module_version": "1.5.0",
            "_view_count": null,
            "_view_module_version": "1.2.0",
            "_model_module": "@jupyter-widgets/controls"
          }
        },
        "0a8052f9b0fd4919b8d66e6e26d1175f": {
          "model_module": "@jupyter-widgets/base",
          "model_name": "LayoutModel",
          "model_module_version": "1.2.0",
          "state": {
            "_view_name": "LayoutView",
            "grid_template_rows": null,
            "right": null,
            "justify_content": null,
            "_view_module": "@jupyter-widgets/base",
            "overflow": null,
            "_model_module_version": "1.2.0",
            "_view_count": null,
            "flex_flow": null,
            "width": null,
            "min_width": null,
            "border": null,
            "align_items": null,
            "bottom": null,
            "_model_module": "@jupyter-widgets/base",
            "top": null,
            "grid_column": null,
            "overflow_y": null,
            "overflow_x": null,
            "grid_auto_flow": null,
            "grid_area": null,
            "grid_template_columns": null,
            "flex": null,
            "_model_name": "LayoutModel",
            "justify_items": null,
            "grid_row": null,
            "max_height": null,
            "align_content": null,
            "visibility": null,
            "align_self": null,
            "height": null,
            "min_height": null,
            "padding": null,
            "grid_auto_rows": null,
            "grid_gap": null,
            "max_width": null,
            "order": null,
            "_view_module_version": "1.2.0",
            "grid_template_areas": null,
            "object_position": null,
            "object_fit": null,
            "grid_auto_columns": null,
            "margin": null,
            "display": null,
            "left": null
          }
        }
      }
    }
  },
  "cells": [
    {
      "cell_type": "code",
      "metadata": {
        "id": "QtQd6z5Ed48Q",
        "colab": {
          "base_uri": "https://localhost:8080/"
        },
        "outputId": "5ef719dd-e882-45d5-9821-4745c1c4fd49"
      },
      "source": [
        "import numpy as np\n",
        "import matplotlib.pyplot as plt\n",
        "import os\n",
        "import torch as tc\n",
        "from skimage import io, color\n",
        "import random\n",
        "import tqdm\n",
        "import torch.nn as nn\n",
        "from torch.utils.data import Dataset, DataLoader\n",
        "import torchvision\n",
        "from torchvision import transforms, datasets, models\n",
        "from sklearn.model_selection import train_test_split\n",
        "from sklearn.metrics import accuracy_score, precision_score, f1_score, classification_report, confusion_matrix, roc_curve, auc\n",
        "import seaborn as sns\n",
        "! pip install torchsummary\n",
        "from torchsummary import summary\n",
        "import gc\n",
        "from google.colab import drive\n",
        "import time"
      ],
      "execution_count": 26,
      "outputs": [
        {
          "output_type": "stream",
          "name": "stdout",
          "text": [
            "Requirement already satisfied: torchsummary in /usr/local/lib/python3.7/dist-packages (1.5.1)\n"
          ]
        }
      ]
    },
    {
      "cell_type": "code",
      "metadata": {
        "colab": {
          "base_uri": "https://localhost:8080/"
        },
        "id": "_uKIb5s-d48Z",
        "outputId": "6821d813-7fc0-435f-e354-b293743f696a"
      },
      "source": [
        "drive.mount('/content/drive')\n",
        "path = \"/content/drive/My Drive/JOGA_DATASET\"\n",
        "path_testing = path + \"/test\"\n",
        "path_training = path + \"/train\"\n",
        "print(path_testing)"
      ],
      "execution_count": 27,
      "outputs": [
        {
          "output_type": "stream",
          "name": "stdout",
          "text": [
            "Drive already mounted at /content/drive; to attempt to forcibly remount, call drive.mount(\"/content/drive\", force_remount=True).\n",
            "/content/drive/My Drive/JOGA_DATASET/test\n"
          ]
        }
      ]
    },
    {
      "cell_type": "code",
      "metadata": {
        "colab": {
          "base_uri": "https://localhost:8080/"
        },
        "id": "ZAgo_UKnd48a",
        "outputId": "d88babac-a006-4200-e6b4-ba06e68b8c33"
      },
      "source": [
        "list_train = os.listdir(path_training)\n",
        "print(list_train)\n",
        "list_test = os.listdir(path_testing)\n",
        "print(list_test)"
      ],
      "execution_count": 28,
      "outputs": [
        {
          "output_type": "stream",
          "name": "stdout",
          "text": [
            "['plank', 'downdog', 'tree', 'warrior2', 'goddess']\n",
            "['warrior2', 'goddess', 'plank', 'downdog', 'tree']\n"
          ]
        }
      ]
    },
    {
      "cell_type": "code",
      "metadata": {
        "colab": {
          "base_uri": "https://localhost:8080/"
        },
        "id": "5uZiC_aifDP5",
        "outputId": "08db15ca-e840-4e87-b71d-54022f72ecca"
      },
      "source": [
        "#Training data \n",
        "train_warrior2 = path_training + \"/warrior2\"\n",
        "train_goddess = path_training + \"/goddess\"\n",
        "train_downdog = path_training + \"/downdog\"\n",
        "train_tree = path_training + \"/tree\"\n",
        "train_plank = path_training + \"/plank\"\n",
        "\n",
        "print(f'train warrior2: {len(os.listdir(train_warrior2))}')\n",
        "print(f'train goddess: {len(os.listdir(train_goddess))}')\n",
        "print(f'train downdog: {len(os.listdir(train_downdog))}')\n",
        "print(f'train tree: {len(os.listdir(train_tree))}')\n",
        "print(f'train plank: {len(os.listdir(train_plank))}')\n",
        "\n",
        "#Testing data\n",
        "test_warrior2 = path_testing + \"/warrior2\"\n",
        "test_goddess = path_testing + \"/goddess\"\n",
        "test_downdog = path_testing + \"/downdog\"\n",
        "test_tree = path_testing + \"/tree\"\n",
        "test_plank = path_testing + \"/plank\"\n",
        "\n",
        "print(f'test warrior2: {len(os.listdir(test_warrior2))}')\n",
        "print(f'test goddess: {len(os.listdir(test_goddess))}')\n",
        "print(f'test downdog: {len(os.listdir(test_downdog))}')\n",
        "print(f'test tree: {len(os.listdir(test_tree))}')\n",
        "print(f'test plank: {len(os.listdir(test_plank))}')"
      ],
      "execution_count": 29,
      "outputs": [
        {
          "output_type": "stream",
          "name": "stdout",
          "text": [
            "train warrior2: 243\n",
            "train goddess: 175\n",
            "train downdog: 209\n",
            "train tree: 155\n",
            "train plank: 250\n",
            "test warrior2: 103\n",
            "test goddess: 76\n",
            "test downdog: 90\n",
            "test tree: 66\n",
            "test plank: 104\n"
          ]
        }
      ]
    },
    {
      "cell_type": "code",
      "metadata": {
        "id": "5MTw4JaM4975"
      },
      "source": [
        "class JogaDataset(tc.utils.data.Dataset):\n",
        "  def __init__(self, image_paths, image_labels, transforms):\n",
        "    self.image_paths = image_paths\n",
        "    self.labels = image_labels\n",
        "    self.transforms = transforms\n",
        "\n",
        "  def __getitem__(self,i):\n",
        "    image = plt.imread(self.image_paths[i])\n",
        "    label = self.labels[i]\n",
        "    image = self.transforms(image)\n",
        "    return image, label\n",
        "\n",
        "  def __len__(self):\n",
        "    return len(self.image_paths)\n",
        "\n",
        "\n",
        "def labels(filename, main_path):\n",
        "    if filename[len(main_path)+1] == \"w\":\n",
        "        label = 0\n",
        "    elif filename[len(main_path)+1] == \"g\":\n",
        "        label = 1\n",
        "    elif filename[len(main_path)+1] == \"d\":\n",
        "        label = 2\n",
        "    elif filename[len(main_path)+1] == \"t\":\n",
        "        label = 3\n",
        "    else:\n",
        "        label = 4\n",
        "    return label\n",
        "\n",
        "classes = ['warrior2', 'goddess', 'downdog', 'tree', 'plank']"
      ],
      "execution_count": 30,
      "outputs": []
    },
    {
      "cell_type": "code",
      "metadata": {
        "id": "eNEBa-4pfFCy"
      },
      "source": [
        "paths_to_training_imgs = [path_training + '/' + i + '/' + img \n",
        "                          for i in os.listdir(path_training) \n",
        "                          for img in os.listdir(path_training + '/' + i)\n",
        "                          ]\n",
        "\n",
        "paths_to_testing_imgs = [path_testing + '/' + i + '/' + img \n",
        "                         for i in os.listdir(path_testing) \n",
        "                         for img in os.listdir(path_testing + '/' + i)\n",
        "                         ]\n",
        "\n",
        "transform = transforms.Compose([transforms.ToTensor(), \n",
        "                                transforms.Resize((224,224)),\n",
        "                                #transforms.Normalize(mean=[0.485, 0.456, 0.406], std=[0.229, 0.224, 0.225]),\n",
        "                                ])"
      ],
      "execution_count": 31,
      "outputs": []
    },
    {
      "cell_type": "code",
      "metadata": {
        "colab": {
          "base_uri": "https://localhost:8080/"
        },
        "id": "DGRpo87FB4f6",
        "outputId": "a3be1105-8b82-4194-834f-bc093a5b877d"
      },
      "source": [
        "label_img_train = [labels(path, path_training) for path in paths_to_training_imgs]\n",
        "label_img_test = [labels(path, path_testing) for path in paths_to_testing_imgs]\n",
        "\n",
        "print(\"Training:\")\n",
        "print(len(label_img_train))\n",
        "print(\"Testing\")\n",
        "print(len(label_img_test))"
      ],
      "execution_count": 32,
      "outputs": [
        {
          "output_type": "stream",
          "name": "stdout",
          "text": [
            "Training:\n",
            "1032\n",
            "Testing\n",
            "439\n"
          ]
        }
      ]
    },
    {
      "cell_type": "code",
      "metadata": {
        "colab": {
          "base_uri": "https://localhost:8080/"
        },
        "id": "gyIg4FXOdjsh",
        "outputId": "ad2abe0e-3b79-4268-ce40-9af4b7586b37"
      },
      "source": [
        "#Validation set \n",
        "paths_to_training_imgs , paths_to_validation_imgs, label_img_train, label_img_val = train_test_split(paths_to_training_imgs, label_img_train, test_size=0.05, random_state=10) \n",
        "print(len(paths_to_training_imgs))\n",
        "print(len(paths_to_validation_imgs))"
      ],
      "execution_count": 33,
      "outputs": [
        {
          "output_type": "stream",
          "name": "stdout",
          "text": [
            "980\n",
            "52\n"
          ]
        }
      ]
    },
    {
      "cell_type": "code",
      "metadata": {
        "colab": {
          "base_uri": "https://localhost:8080/",
          "height": 360
        },
        "id": "EdZePjnimyEJ",
        "outputId": "35b31be1-5360-419f-9f3c-4fc5f22391bf"
      },
      "source": [
        "# random image from train Dataset (before resizing)\n",
        "\n",
        "plt.figure(figsize=(5,6))\n",
        "for i in range(4):\n",
        "  n = random.randint(0, len(paths_to_training_imgs)-1)\n",
        "  image = plt.imread(paths_to_training_imgs[n])\n",
        "  plt.subplot(2,2,i+1)\n",
        "  plt.imshow(image)\n",
        "  plt.title(classes[label_img_train[n]])\n",
        "\n",
        "plt.show()"
      ],
      "execution_count": 34,
      "outputs": [
        {
          "output_type": "display_data",
          "data": {
            "image/png": "[encoded data removed]",
            "text/plain": [
              "<Figure size 360x432 with 4 Axes>"
            ]
          },
          "metadata": {
            "needs_background": "light"
          }
        }
      ]
    },
    {
      "cell_type": "code",
      "metadata": {
        "colab": {
          "base_uri": "https://localhost:8080/"
        },
        "id": "-3Je-_8id48f",
        "pycharm": {
          "name": "#%%\n"
        },
        "outputId": "a4cc480b-8650-4359-97fc-f80a2aaa2cec"
      },
      "source": [
        "batch_size = 4\n",
        "num_workers = 2\n",
        "\n",
        "all_train_dataset = JogaDataset(paths_to_training_imgs, label_img_train, transforms=transform)\n",
        "all_test_dataset = JogaDataset(paths_to_testing_imgs, label_img_test, transforms=transform)\n",
        "all_val_dataset = JogaDataset(paths_to_validation_imgs, label_img_val, transforms=transform)\n",
        "\n",
        "print(len(all_train_dataset))\n",
        "print(len(all_test_dataset))\n",
        "print(len(all_val_dataset))\n",
        "\n",
        "train_dataloader = DataLoader(all_train_dataset, batch_size=batch_size, shuffle=True)\n",
        "test_dataloader = DataLoader(all_test_dataset, batch_size=batch_size, shuffle=True)\n",
        "validation_dataloader = DataLoader(all_val_dataset, batch_size=batch_size, shuffle=True)"
      ],
      "execution_count": 35,
      "outputs": [
        {
          "output_type": "stream",
          "name": "stdout",
          "text": [
            "980\n",
            "439\n",
            "52\n"
          ]
        }
      ]
    },
    {
      "cell_type": "code",
      "metadata": {
        "colab": {
          "base_uri": "https://localhost:8080/",
          "height": 354
        },
        "id": "WOlpF9jijtxW",
        "outputId": "c7b6f97e-e358-4043-c926-308a7f859091"
      },
      "source": [
        "# random image from train DataLoader (after resizing)\n",
        "\n",
        "plt.figure(figsize=(5,5.5))\n",
        "for i in range(4):\n",
        "  for images, labels in train_dataloader:\n",
        "    plt.subplot(2,2,i+1)\n",
        "    plt.imshow(images[i, :, :, :].numpy().swapaxes(0, 1).swapaxes(1, 2))\n",
        "    plt.title(classes[labels[i]])\n",
        "\n",
        "    break\n",
        "plt.show()"
      ],
      "execution_count": 36,
      "outputs": [
        {
          "output_type": "display_data",
          "data": {
            "image/png": "[encoded data removed]",
            "text/plain": [
              "<Figure size 360x396 with 4 Axes>"
            ]
          },
          "metadata": {
            "needs_background": "light"
          }
        }
      ]
    },
    {
      "cell_type": "code",
      "metadata": {
        "colab": {
          "base_uri": "https://localhost:8080/",
          "height": 952,
          "referenced_widgets": [
            "1f3ff0f218fd4bbb892e2eff1326e0a6",
            "92f068c08ab84ff78813c76c409f2be8",
            "6b6816dbed2c49f9b7d0152dede103dd",
            "5beef7641cdb41c094341c60630ef5f4",
            "453a979dd50047ab8bc166a9de9c1fda",
            "c2766908856047a1bbb12c0da53e3ad4",
            "c89f377bc4a6486ab4dfe499c0e982b3",
            "c74c0a4015e4441ea36d05849ef29437",
            "8ab1b4e92cb944b1ab774a045039d635",
            "f6b6aee13f344e6383147f217540e311",
            "0a8052f9b0fd4919b8d66e6e26d1175f"
          ]
        },
        "id": "V4qmt9JtBgH_",
        "outputId": "573401b7-32b7-4e36-a084-253eafe912cc"
      },
      "source": [
        "model = torchvision.models.vgg16(pretrained=True)\n",
        "\n",
        "device = \"cuda:0\"   \n",
        "model = model.to(device)    \n",
        "print(summary(model, input_size=(3, 224, 224)))"
      ],
      "execution_count": 38,
      "outputs": [
        {
          "output_type": "stream",
          "name": "stderr",
          "text": [
            "Downloading: \"https://download.pytorch.org/models/vgg16-397923af.pth\" to /root/.cache/torch/hub/checkpoints/vgg16-397923af.pth\n"
          ]
        },
        {
          "output_type": "display_data",
          "data": {
            "application/vnd.jupyter.widget-view+json": {
              "model_id": "1f3ff0f218fd4bbb892e2eff1326e0a6",
              "version_minor": 0,
              "version_major": 2
            },
            "text/plain": [
              "  0%|          | 0.00/528M [00:00<?, ?B/s]"
            ]
          },
          "metadata": {}
        },
        {
          "output_type": "stream",
          "name": "stdout",
          "text": [
            "----------------------------------------------------------------\n",
            "        Layer (type)               Output Shape         Param #\n",
            "================================================================\n",
            "            Conv2d-1         [-1, 64, 224, 224]           1,792\n",
            "              ReLU-2         [-1, 64, 224, 224]               0\n",
            "            Conv2d-3         [-1, 64, 224, 224]          36,928\n",
            "              ReLU-4         [-1, 64, 224, 224]               0\n",
            "         MaxPool2d-5         [-1, 64, 112, 112]               0\n",
            "            Conv2d-6        [-1, 128, 112, 112]          73,856\n",
            "              ReLU-7        [-1, 128, 112, 112]               0\n",
            "            Conv2d-8        [-1, 128, 112, 112]         147,584\n",
            "              ReLU-9        [-1, 128, 112, 112]               0\n",
            "        MaxPool2d-10          [-1, 128, 56, 56]               0\n",
            "           Conv2d-11          [-1, 256, 56, 56]         295,168\n",
            "             ReLU-12          [-1, 256, 56, 56]               0\n",
            "           Conv2d-13          [-1, 256, 56, 56]         590,080\n",
            "             ReLU-14          [-1, 256, 56, 56]               0\n",
            "           Conv2d-15          [-1, 256, 56, 56]         590,080\n",
            "             ReLU-16          [-1, 256, 56, 56]               0\n",
            "        MaxPool2d-17          [-1, 256, 28, 28]               0\n",
            "           Conv2d-18          [-1, 512, 28, 28]       1,180,160\n",
            "             ReLU-19          [-1, 512, 28, 28]               0\n",
            "           Conv2d-20          [-1, 512, 28, 28]       2,359,808\n",
            "             ReLU-21          [-1, 512, 28, 28]               0\n",
            "           Conv2d-22          [-1, 512, 28, 28]       2,359,808\n",
            "             ReLU-23          [-1, 512, 28, 28]               0\n",
            "        MaxPool2d-24          [-1, 512, 14, 14]               0\n",
            "           Conv2d-25          [-1, 512, 14, 14]       2,359,808\n",
            "             ReLU-26          [-1, 512, 14, 14]               0\n",
            "           Conv2d-27          [-1, 512, 14, 14]       2,359,808\n",
            "             ReLU-28          [-1, 512, 14, 14]               0\n",
            "           Conv2d-29          [-1, 512, 14, 14]       2,359,808\n",
            "             ReLU-30          [-1, 512, 14, 14]               0\n",
            "        MaxPool2d-31            [-1, 512, 7, 7]               0\n",
            "AdaptiveAvgPool2d-32            [-1, 512, 7, 7]               0\n",
            "           Linear-33                 [-1, 4096]     102,764,544\n",
            "             ReLU-34                 [-1, 4096]               0\n",
            "          Dropout-35                 [-1, 4096]               0\n",
            "           Linear-36                 [-1, 4096]      16,781,312\n",
            "             ReLU-37                 [-1, 4096]               0\n",
            "          Dropout-38                 [-1, 4096]               0\n",
            "           Linear-39                 [-1, 1000]       4,097,000\n",
            "================================================================\n",
            "Total params: 138,357,544\n",
            "Trainable params: 138,357,544\n",
            "Non-trainable params: 0\n",
            "----------------------------------------------------------------\n",
            "Input size (MB): 0.57\n",
            "Forward/backward pass size (MB): 218.78\n",
            "Params size (MB): 527.79\n",
            "Estimated Total Size (MB): 747.15\n",
            "----------------------------------------------------------------\n",
            "None\n"
          ]
        }
      ]
    },
    {
      "cell_type": "code",
      "metadata": {
        "id": "aJ-u1iiNkAzZ"
      },
      "source": [
        "class EarlyStopping():\n",
        "    \"\"\"\n",
        "    Early stopping to stop the training when the loss does not improve after\n",
        "    certain epochs.\n",
        "    \"\"\"\n",
        "    def __init__(self, patience=10, min_delta=0):\n",
        "        \"\"\"\n",
        "        :param patience: how many epochs to wait before stopping when loss is\n",
        "               not improving\n",
        "        :param min_delta: minimum difference between new loss and old loss for\n",
        "               new loss to be considered as an improvement\n",
        "        \"\"\"\n",
        "        self.patience = patience\n",
        "        self.min_delta = min_delta\n",
        "        self.counter = 0\n",
        "        self.best_loss = None\n",
        "        self.early_stop = False\n",
        "        \n",
        "    def __call__(self, val_loss):\n",
        "        if self.best_loss == None:\n",
        "            self.best_loss = val_loss\n",
        "        elif self.best_loss - val_loss > self.min_delta:\n",
        "            self.best_loss = val_loss\n",
        "        elif self.best_loss - val_loss < self.min_delta:\n",
        "            self.counter += 1\n",
        "            print(f\"INFO: Early stopping counter {self.counter} of {self.patience}\")\n",
        "            if self.counter >= self.patience:\n",
        "                print('INFO: Early stopping')\n",
        "                self.early_stop = True"
      ],
      "execution_count": 39,
      "outputs": []
    },
    {
      "cell_type": "code",
      "metadata": {
        "id": "cqiIEIxKd48h",
        "pycharm": {
          "name": "#%%\n"
        },
        "colab": {
          "base_uri": "https://localhost:8080/"
        },
        "outputId": "aaee54a0-6977-479a-f917-a74c12117be7"
      },
      "source": [
        "optimizer = tc.optim.Adam(model.parameters(), lr=0.000001)\n",
        "cost_function = nn.CrossEntropyLoss()\n",
        "num_epochs = 100\n",
        "\n",
        "early_stopping = EarlyStopping()\n",
        "start = time.time()\n",
        "\n",
        "train_losses = []\n",
        "train_accuracy = []\n",
        "eval_losses = []\n",
        "eval_accuracy = []\n",
        "\n",
        "for epoch in range(num_epochs):\n",
        "  running_loss = 0.0\n",
        "  correct = 0\n",
        "  total = 0\n",
        "  running_val_loss = 0.0\n",
        "  correct_val = 0\n",
        "  total_val = 0 \n",
        "  print(f'Epoch: {epoch+1}')\n",
        "\n",
        "  model.train()\n",
        "  for image, label in tqdm.tqdm(train_dataloader, position=0, leave=True):  \n",
        "    image = image.to(device)\n",
        "    label = label.to(device)\n",
        "\n",
        "    optimizer.zero_grad()\n",
        "    results = model(image)\n",
        "    loss = cost_function(results, label)\n",
        "    loss.backward()\n",
        "    optimizer.step()\n",
        "\n",
        "    running_loss += loss.item()\n",
        "    _, predicted = results.max(1)\n",
        "    total += label.size(0)\n",
        "    correct += predicted.eq(label).sum().item()\n",
        "\n",
        "  train_loss = running_loss / len(train_dataloader)\n",
        "  accuracy = 100. * correct / total\n",
        "  \n",
        "  train_accuracy.append(accuracy)\n",
        "  train_losses.append(train_loss)\n",
        "  print('Train Loss: %.3f | Accuracy: %.3f'%(train_loss, accuracy))\n",
        "\n",
        "\n",
        "  model.eval()\n",
        "  with tc.no_grad():\n",
        "    for image, label in tqdm.tqdm(validation_dataloader, position=0, leave=True):\n",
        "      \n",
        "      image = image.to(device)\n",
        "      label = label.to(device)\n",
        "\n",
        "      results = model(image)\n",
        "      val_loss = cost_function(results, label)\n",
        "\n",
        "      running_val_loss += val_loss.item()\n",
        "      _, predicted_val = results.max(1)\n",
        "      total_val += labels.size(0)\n",
        "      correct_val += predicted_val.eq(label).sum().item()\n",
        "\n",
        "  val_loss = running_val_loss / len(validation_dataloader)\n",
        "  accuracy_val = 100. * correct_val / total_val\n",
        "\n",
        "  eval_losses.append(val_loss)\n",
        "  eval_accuracy.append(accuracy_val)\n",
        "\n",
        "  print('Validation Loss: %.3f | Accuracy: %.3f'%(val_loss, accuracy_val))\n",
        "\n",
        "  early_stopping(val_loss)\n",
        "  if early_stopping.early_stop:\n",
        "      break\n",
        "\n",
        "end = time.time()\n",
        "print(f\"Training time: {(end-start)/60:.3f} minutes\")"
      ],
      "execution_count": 40,
      "outputs": [
        {
          "output_type": "stream",
          "name": "stdout",
          "text": [
            "Epoch: 1\n"
          ]
        },
        {
          "output_type": "stream",
          "name": "stderr",
          "text": [
            "100%|██████████| 245/245 [01:48<00:00,  2.25it/s]\n"
          ]
        },
        {
          "output_type": "stream",
          "name": "stdout",
          "text": [
            "Train Loss: 5.808 | Accuracy: 11.633\n"
          ]
        },
        {
          "output_type": "stream",
          "name": "stderr",
          "text": [
            "100%|██████████| 13/13 [00:02<00:00,  6.43it/s]\n"
          ]
        },
        {
          "output_type": "stream",
          "name": "stdout",
          "text": [
            "Validation Loss: 3.212 | Accuracy: 21.154\n",
            "Epoch: 2\n"
          ]
        },
        {
          "output_type": "stream",
          "name": "stderr",
          "text": [
            "100%|██████████| 245/245 [01:46<00:00,  2.30it/s]\n"
          ]
        },
        {
          "output_type": "stream",
          "name": "stdout",
          "text": [
            "Train Loss: 2.495 | Accuracy: 28.878\n"
          ]
        },
        {
          "output_type": "stream",
          "name": "stderr",
          "text": [
            "100%|██████████| 13/13 [00:02<00:00,  6.43it/s]\n"
          ]
        },
        {
          "output_type": "stream",
          "name": "stdout",
          "text": [
            "Validation Loss: 2.111 | Accuracy: 36.538\n",
            "Epoch: 3\n"
          ]
        },
        {
          "output_type": "stream",
          "name": "stderr",
          "text": [
            "100%|██████████| 245/245 [01:48<00:00,  2.26it/s]\n"
          ]
        },
        {
          "output_type": "stream",
          "name": "stdout",
          "text": [
            "Train Loss: 1.696 | Accuracy: 47.245\n"
          ]
        },
        {
          "output_type": "stream",
          "name": "stderr",
          "text": [
            "100%|██████████| 13/13 [00:02<00:00,  6.50it/s]\n"
          ]
        },
        {
          "output_type": "stream",
          "name": "stdout",
          "text": [
            "Validation Loss: 1.638 | Accuracy: 48.077\n",
            "Epoch: 4\n"
          ]
        },
        {
          "output_type": "stream",
          "name": "stderr",
          "text": [
            "100%|██████████| 245/245 [01:46<00:00,  2.30it/s]\n"
          ]
        },
        {
          "output_type": "stream",
          "name": "stdout",
          "text": [
            "Train Loss: 1.338 | Accuracy: 58.878\n"
          ]
        },
        {
          "output_type": "stream",
          "name": "stderr",
          "text": [
            "100%|██████████| 13/13 [00:02<00:00,  6.49it/s]\n"
          ]
        },
        {
          "output_type": "stream",
          "name": "stdout",
          "text": [
            "Validation Loss: 1.347 | Accuracy: 53.846\n",
            "Epoch: 5\n"
          ]
        },
        {
          "output_type": "stream",
          "name": "stderr",
          "text": [
            "100%|██████████| 245/245 [01:49<00:00,  2.24it/s]\n"
          ]
        },
        {
          "output_type": "stream",
          "name": "stdout",
          "text": [
            "Train Loss: 1.103 | Accuracy: 64.694\n"
          ]
        },
        {
          "output_type": "stream",
          "name": "stderr",
          "text": [
            "100%|██████████| 13/13 [00:02<00:00,  6.40it/s]\n"
          ]
        },
        {
          "output_type": "stream",
          "name": "stdout",
          "text": [
            "Validation Loss: 1.161 | Accuracy: 65.385\n",
            "Epoch: 6\n"
          ]
        },
        {
          "output_type": "stream",
          "name": "stderr",
          "text": [
            "100%|██████████| 245/245 [01:46<00:00,  2.29it/s]\n"
          ]
        },
        {
          "output_type": "stream",
          "name": "stdout",
          "text": [
            "Train Loss: 0.874 | Accuracy: 71.939\n"
          ]
        },
        {
          "output_type": "stream",
          "name": "stderr",
          "text": [
            "100%|██████████| 13/13 [00:02<00:00,  6.45it/s]\n"
          ]
        },
        {
          "output_type": "stream",
          "name": "stdout",
          "text": [
            "Validation Loss: 0.991 | Accuracy: 71.154\n",
            "Epoch: 7\n"
          ]
        },
        {
          "output_type": "stream",
          "name": "stderr",
          "text": [
            "100%|██████████| 245/245 [01:49<00:00,  2.24it/s]\n"
          ]
        },
        {
          "output_type": "stream",
          "name": "stdout",
          "text": [
            "Train Loss: 0.754 | Accuracy: 76.837\n"
          ]
        },
        {
          "output_type": "stream",
          "name": "stderr",
          "text": [
            "100%|██████████| 13/13 [00:02<00:00,  6.44it/s]\n"
          ]
        },
        {
          "output_type": "stream",
          "name": "stdout",
          "text": [
            "Validation Loss: 0.909 | Accuracy: 76.923\n",
            "Epoch: 8\n"
          ]
        },
        {
          "output_type": "stream",
          "name": "stderr",
          "text": [
            "100%|██████████| 245/245 [01:46<00:00,  2.29it/s]\n"
          ]
        },
        {
          "output_type": "stream",
          "name": "stdout",
          "text": [
            "Train Loss: 0.601 | Accuracy: 82.245\n"
          ]
        },
        {
          "output_type": "stream",
          "name": "stderr",
          "text": [
            "100%|██████████| 13/13 [00:02<00:00,  6.41it/s]\n"
          ]
        },
        {
          "output_type": "stream",
          "name": "stdout",
          "text": [
            "Validation Loss: 0.836 | Accuracy: 80.769\n",
            "Epoch: 9\n"
          ]
        },
        {
          "output_type": "stream",
          "name": "stderr",
          "text": [
            "100%|██████████| 245/245 [01:49<00:00,  2.24it/s]\n"
          ]
        },
        {
          "output_type": "stream",
          "name": "stdout",
          "text": [
            "Train Loss: 0.524 | Accuracy: 84.082\n"
          ]
        },
        {
          "output_type": "stream",
          "name": "stderr",
          "text": [
            "100%|██████████| 13/13 [00:02<00:00,  6.47it/s]\n"
          ]
        },
        {
          "output_type": "stream",
          "name": "stdout",
          "text": [
            "Validation Loss: 0.766 | Accuracy: 84.615\n",
            "Epoch: 10\n"
          ]
        },
        {
          "output_type": "stream",
          "name": "stderr",
          "text": [
            "100%|██████████| 245/245 [01:47<00:00,  2.29it/s]\n"
          ]
        },
        {
          "output_type": "stream",
          "name": "stdout",
          "text": [
            "Train Loss: 0.427 | Accuracy: 86.327\n"
          ]
        },
        {
          "output_type": "stream",
          "name": "stderr",
          "text": [
            "100%|██████████| 13/13 [00:02<00:00,  6.44it/s]\n"
          ]
        },
        {
          "output_type": "stream",
          "name": "stdout",
          "text": [
            "Validation Loss: 0.698 | Accuracy: 84.615\n",
            "Epoch: 11\n"
          ]
        },
        {
          "output_type": "stream",
          "name": "stderr",
          "text": [
            "100%|██████████| 245/245 [01:49<00:00,  2.24it/s]\n"
          ]
        },
        {
          "output_type": "stream",
          "name": "stdout",
          "text": [
            "Train Loss: 0.349 | Accuracy: 89.796\n"
          ]
        },
        {
          "output_type": "stream",
          "name": "stderr",
          "text": [
            "100%|██████████| 13/13 [00:02<00:00,  6.42it/s]\n"
          ]
        },
        {
          "output_type": "stream",
          "name": "stdout",
          "text": [
            "Validation Loss: 0.677 | Accuracy: 90.385\n",
            "Epoch: 12\n"
          ]
        },
        {
          "output_type": "stream",
          "name": "stderr",
          "text": [
            "100%|██████████| 245/245 [01:47<00:00,  2.29it/s]\n"
          ]
        },
        {
          "output_type": "stream",
          "name": "stdout",
          "text": [
            "Train Loss: 0.309 | Accuracy: 90.510\n"
          ]
        },
        {
          "output_type": "stream",
          "name": "stderr",
          "text": [
            "100%|██████████| 13/13 [00:02<00:00,  6.43it/s]\n"
          ]
        },
        {
          "output_type": "stream",
          "name": "stdout",
          "text": [
            "Validation Loss: 0.651 | Accuracy: 90.385\n",
            "Epoch: 13\n"
          ]
        },
        {
          "output_type": "stream",
          "name": "stderr",
          "text": [
            "100%|██████████| 245/245 [01:49<00:00,  2.25it/s]\n"
          ]
        },
        {
          "output_type": "stream",
          "name": "stdout",
          "text": [
            "Train Loss: 0.263 | Accuracy: 92.041\n"
          ]
        },
        {
          "output_type": "stream",
          "name": "stderr",
          "text": [
            "100%|██████████| 13/13 [00:02<00:00,  6.47it/s]\n"
          ]
        },
        {
          "output_type": "stream",
          "name": "stdout",
          "text": [
            "Validation Loss: 0.614 | Accuracy: 90.385\n",
            "Epoch: 14\n"
          ]
        },
        {
          "output_type": "stream",
          "name": "stderr",
          "text": [
            "100%|██████████| 245/245 [01:46<00:00,  2.29it/s]\n"
          ]
        },
        {
          "output_type": "stream",
          "name": "stdout",
          "text": [
            "Train Loss: 0.227 | Accuracy: 93.673\n"
          ]
        },
        {
          "output_type": "stream",
          "name": "stderr",
          "text": [
            "100%|██████████| 13/13 [00:02<00:00,  6.42it/s]\n"
          ]
        },
        {
          "output_type": "stream",
          "name": "stdout",
          "text": [
            "Validation Loss: 0.639 | Accuracy: 90.385\n",
            "INFO: Early stopping counter 1 of 10\n",
            "Epoch: 15\n"
          ]
        },
        {
          "output_type": "stream",
          "name": "stderr",
          "text": [
            "100%|██████████| 245/245 [01:49<00:00,  2.24it/s]\n"
          ]
        },
        {
          "output_type": "stream",
          "name": "stdout",
          "text": [
            "Train Loss: 0.202 | Accuracy: 93.571\n"
          ]
        },
        {
          "output_type": "stream",
          "name": "stderr",
          "text": [
            "100%|██████████| 13/13 [00:02<00:00,  6.41it/s]\n"
          ]
        },
        {
          "output_type": "stream",
          "name": "stdout",
          "text": [
            "Validation Loss: 0.609 | Accuracy: 90.385\n",
            "Epoch: 16\n"
          ]
        },
        {
          "output_type": "stream",
          "name": "stderr",
          "text": [
            "100%|██████████| 245/245 [01:47<00:00,  2.29it/s]\n"
          ]
        },
        {
          "output_type": "stream",
          "name": "stdout",
          "text": [
            "Train Loss: 0.152 | Accuracy: 96.020\n"
          ]
        },
        {
          "output_type": "stream",
          "name": "stderr",
          "text": [
            "100%|██████████| 13/13 [00:02<00:00,  6.44it/s]\n"
          ]
        },
        {
          "output_type": "stream",
          "name": "stdout",
          "text": [
            "Validation Loss: 0.613 | Accuracy: 90.385\n",
            "INFO: Early stopping counter 2 of 10\n",
            "Epoch: 17\n"
          ]
        },
        {
          "output_type": "stream",
          "name": "stderr",
          "text": [
            "100%|██████████| 245/245 [01:49<00:00,  2.24it/s]\n"
          ]
        },
        {
          "output_type": "stream",
          "name": "stdout",
          "text": [
            "Train Loss: 0.133 | Accuracy: 96.429\n"
          ]
        },
        {
          "output_type": "stream",
          "name": "stderr",
          "text": [
            "100%|██████████| 13/13 [00:02<00:00,  6.42it/s]\n"
          ]
        },
        {
          "output_type": "stream",
          "name": "stdout",
          "text": [
            "Validation Loss: 0.584 | Accuracy: 90.385\n",
            "Epoch: 18\n"
          ]
        },
        {
          "output_type": "stream",
          "name": "stderr",
          "text": [
            "100%|██████████| 245/245 [01:47<00:00,  2.29it/s]\n"
          ]
        },
        {
          "output_type": "stream",
          "name": "stdout",
          "text": [
            "Train Loss: 0.109 | Accuracy: 96.939\n"
          ]
        },
        {
          "output_type": "stream",
          "name": "stderr",
          "text": [
            "100%|██████████| 13/13 [00:02<00:00,  6.34it/s]\n"
          ]
        },
        {
          "output_type": "stream",
          "name": "stdout",
          "text": [
            "Validation Loss: 0.593 | Accuracy: 90.385\n",
            "INFO: Early stopping counter 3 of 10\n",
            "Epoch: 19\n"
          ]
        },
        {
          "output_type": "stream",
          "name": "stderr",
          "text": [
            "100%|██████████| 245/245 [01:49<00:00,  2.24it/s]\n"
          ]
        },
        {
          "output_type": "stream",
          "name": "stdout",
          "text": [
            "Train Loss: 0.101 | Accuracy: 97.449\n"
          ]
        },
        {
          "output_type": "stream",
          "name": "stderr",
          "text": [
            "100%|██████████| 13/13 [00:02<00:00,  6.46it/s]\n"
          ]
        },
        {
          "output_type": "stream",
          "name": "stdout",
          "text": [
            "Validation Loss: 0.594 | Accuracy: 90.385\n",
            "INFO: Early stopping counter 4 of 10\n",
            "Epoch: 20\n"
          ]
        },
        {
          "output_type": "stream",
          "name": "stderr",
          "text": [
            "100%|██████████| 245/245 [01:46<00:00,  2.29it/s]\n"
          ]
        },
        {
          "output_type": "stream",
          "name": "stdout",
          "text": [
            "Train Loss: 0.081 | Accuracy: 97.959\n"
          ]
        },
        {
          "output_type": "stream",
          "name": "stderr",
          "text": [
            "100%|██████████| 13/13 [00:02<00:00,  6.48it/s]\n"
          ]
        },
        {
          "output_type": "stream",
          "name": "stdout",
          "text": [
            "Validation Loss: 0.573 | Accuracy: 90.385\n",
            "Epoch: 21\n"
          ]
        },
        {
          "output_type": "stream",
          "name": "stderr",
          "text": [
            "100%|██████████| 245/245 [01:49<00:00,  2.25it/s]\n"
          ]
        },
        {
          "output_type": "stream",
          "name": "stdout",
          "text": [
            "Train Loss: 0.069 | Accuracy: 98.061\n"
          ]
        },
        {
          "output_type": "stream",
          "name": "stderr",
          "text": [
            "100%|██████████| 13/13 [00:02<00:00,  6.42it/s]\n"
          ]
        },
        {
          "output_type": "stream",
          "name": "stdout",
          "text": [
            "Validation Loss: 0.603 | Accuracy: 90.385\n",
            "INFO: Early stopping counter 5 of 10\n",
            "Epoch: 22\n"
          ]
        },
        {
          "output_type": "stream",
          "name": "stderr",
          "text": [
            "100%|██████████| 245/245 [01:47<00:00,  2.28it/s]\n"
          ]
        },
        {
          "output_type": "stream",
          "name": "stdout",
          "text": [
            "Train Loss: 0.071 | Accuracy: 97.755\n"
          ]
        },
        {
          "output_type": "stream",
          "name": "stderr",
          "text": [
            "100%|██████████| 13/13 [00:01<00:00,  6.51it/s]\n"
          ]
        },
        {
          "output_type": "stream",
          "name": "stdout",
          "text": [
            "Validation Loss: 0.600 | Accuracy: 90.385\n",
            "INFO: Early stopping counter 6 of 10\n",
            "Epoch: 23\n"
          ]
        },
        {
          "output_type": "stream",
          "name": "stderr",
          "text": [
            "100%|██████████| 245/245 [01:49<00:00,  2.24it/s]\n"
          ]
        },
        {
          "output_type": "stream",
          "name": "stdout",
          "text": [
            "Train Loss: 0.050 | Accuracy: 98.776\n"
          ]
        },
        {
          "output_type": "stream",
          "name": "stderr",
          "text": [
            "100%|██████████| 13/13 [00:02<00:00,  6.42it/s]\n"
          ]
        },
        {
          "output_type": "stream",
          "name": "stdout",
          "text": [
            "Validation Loss: 0.594 | Accuracy: 88.462\n",
            "INFO: Early stopping counter 7 of 10\n",
            "Epoch: 24\n"
          ]
        },
        {
          "output_type": "stream",
          "name": "stderr",
          "text": [
            "100%|██████████| 245/245 [01:47<00:00,  2.29it/s]\n"
          ]
        },
        {
          "output_type": "stream",
          "name": "stdout",
          "text": [
            "Train Loss: 0.045 | Accuracy: 98.980\n"
          ]
        },
        {
          "output_type": "stream",
          "name": "stderr",
          "text": [
            "100%|██████████| 13/13 [00:02<00:00,  6.49it/s]\n"
          ]
        },
        {
          "output_type": "stream",
          "name": "stdout",
          "text": [
            "Validation Loss: 0.595 | Accuracy: 90.385\n",
            "INFO: Early stopping counter 8 of 10\n",
            "Epoch: 25\n"
          ]
        },
        {
          "output_type": "stream",
          "name": "stderr",
          "text": [
            "100%|██████████| 245/245 [01:49<00:00,  2.25it/s]\n"
          ]
        },
        {
          "output_type": "stream",
          "name": "stdout",
          "text": [
            "Train Loss: 0.038 | Accuracy: 99.286\n"
          ]
        },
        {
          "output_type": "stream",
          "name": "stderr",
          "text": [
            "100%|██████████| 13/13 [00:02<00:00,  6.46it/s]\n"
          ]
        },
        {
          "output_type": "stream",
          "name": "stdout",
          "text": [
            "Validation Loss: 0.602 | Accuracy: 90.385\n",
            "INFO: Early stopping counter 9 of 10\n",
            "Epoch: 26\n"
          ]
        },
        {
          "output_type": "stream",
          "name": "stderr",
          "text": [
            "100%|██████████| 245/245 [01:47<00:00,  2.29it/s]\n"
          ]
        },
        {
          "output_type": "stream",
          "name": "stdout",
          "text": [
            "Train Loss: 0.028 | Accuracy: 99.592\n"
          ]
        },
        {
          "output_type": "stream",
          "name": "stderr",
          "text": [
            "100%|██████████| 13/13 [00:02<00:00,  6.49it/s]"
          ]
        },
        {
          "output_type": "stream",
          "name": "stdout",
          "text": [
            "Validation Loss: 0.618 | Accuracy: 88.462\n",
            "INFO: Early stopping counter 10 of 10\n",
            "INFO: Early stopping\n",
            "Training time: 47.710 minutes\n"
          ]
        },
        {
          "output_type": "stream",
          "name": "stderr",
          "text": [
            "\n"
          ]
        }
      ]
    },
    {
      "cell_type": "code",
      "metadata": {
        "id": "8YOzSOAL9n6M",
        "colab": {
          "base_uri": "https://localhost:8080/",
          "height": 573
        },
        "outputId": "0efdfc9e-c677-4393-a59c-6bc26bc4f5ce"
      },
      "source": [
        "#plot accuracy\n",
        "plt.plot(train_accuracy,'.-')\n",
        "plt.plot(eval_accuracy,'r.-')\n",
        "plt.xlabel('epoch')\n",
        "plt.ylabel('accuracy [%]')\n",
        "plt.legend(['Train','Valid'], loc=\"lower right\")\n",
        "plt.title(\"Model accuracy\")\n",
        "plt.show()\n",
        "\n",
        "#plot losses\n",
        "plt.plot(train_losses,'.-')\n",
        "plt.plot(eval_losses,'r.-')\n",
        "plt.xlabel('epoch')\n",
        "plt.ylabel('loss')\n",
        "plt.legend(['Train','Valid'])\n",
        "plt.title(\"Model loss\")\n",
        "plt.show()"
      ],
      "execution_count": 41,
      "outputs": [
        {
          "output_type": "display_data",
          "data": {
            "image/png": "[encoded data removed]",
            "text/plain": [
              "<Figure size 432x288 with 1 Axes>"
            ]
          },
          "metadata": {
            "needs_background": "light"
          }
        },
        {
          "output_type": "display_data",
          "data": {
            "image/png": "[encoded data removed]",
            "text/plain": [
              "<Figure size 432x288 with 1 Axes>"
            ]
          },
          "metadata": {
            "needs_background": "light"
          }
        }
      ]
    },
    {
      "cell_type": "code",
      "metadata": {
        "id": "gvfFAxJrH25K",
        "colab": {
          "base_uri": "https://localhost:8080/"
        },
        "outputId": "274270be-eeb7-4389-e00a-084a75d7eeb7"
      },
      "source": [
        "true_labels = np.arange(0)\n",
        "predicted_labels = np.arange(0)\n",
        "\n",
        "amount = np.int(len(all_test_dataset)/batch_size)\n",
        "\n",
        "for i in range(amount):                   \n",
        "  test_iterator = iter(test_dataloader)\n",
        "  images, labels = test_iterator.next()\n",
        "  images, labels = images.cuda(), labels.cuda()\n",
        "\n",
        "  results = model(images)\n",
        "  _, predicted = tc.max(results, 1)\n",
        "\n",
        "  labels = labels.cpu().numpy()\n",
        "  predicted = predicted.cpu().numpy()\n",
        "  \n",
        "  true_labels = np.append(true_labels, labels)\n",
        "  predicted_labels = np.append(predicted_labels,predicted)\n",
        "\n",
        "cm=confusion_matrix(true_labels, predicted_labels)\n",
        "print(\"Confusion Matrix : \")\n",
        "print(cm)\n",
        "print('Precision score: %f' % precision_score(true_labels, predicted_labels, average='macro'))\n",
        "print('Accuracy score: %f' % accuracy_score(true_labels, predicted_labels))\n",
        "print('F1 score: %f' % f1_score(true_labels, predicted_labels, average='macro'))\n",
        "print(classification_report(true_labels, predicted_labels)) "
      ],
      "execution_count": 42,
      "outputs": [
        {
          "output_type": "stream",
          "name": "stdout",
          "text": [
            "Confusion Matrix : \n",
            "[[100   3   0   2   0]\n",
            " [  3  69   0   0   2]\n",
            " [  0   0  87   0   0]\n",
            " [  2   0   0  48   0]\n",
            " [  2   0   4   0 114]]\n",
            "Precision score: 0.958343\n",
            "Accuracy score: 0.958716\n",
            "F1 score: 0.958446\n",
            "              precision    recall  f1-score   support\n",
            "\n",
            "           0       0.93      0.95      0.94       105\n",
            "           1       0.96      0.93      0.95        74\n",
            "           2       0.96      1.00      0.98        87\n",
            "           3       0.96      0.96      0.96        50\n",
            "           4       0.98      0.95      0.97       120\n",
            "\n",
            "    accuracy                           0.96       436\n",
            "   macro avg       0.96      0.96      0.96       436\n",
            "weighted avg       0.96      0.96      0.96       436\n",
            "\n"
          ]
        }
      ]
    },
    {
      "cell_type": "code",
      "metadata": {
        "id": "oarpChT92C0e",
        "colab": {
          "base_uri": "https://localhost:8080/",
          "height": 427
        },
        "outputId": "8ee23a42-e9f8-4148-df9f-dad452868a2d"
      },
      "source": [
        "plt.figure(figsize=(7,6))\n",
        "sns.heatmap(cm, xticklabels=classes, yticklabels=['','','','',''], annot=True, fmt='.3g',  cmap='YlGnBu')   #Reds\n",
        "plt.ylabel('True label \\n \\n \\n   warrior2         goddess         downdog         tree       plank    ')\n",
        "plt.xlabel('\\n \\n  Predicted label')\n",
        "plt.title('Confusion matrix')\n",
        "plt.show()"
      ],
      "execution_count": 43,
      "outputs": [
        {
          "output_type": "display_data",
          "data": {
            "image/png": "[encoded data removed]",
            "text/plain": [
              "<Figure size 504x432 with 2 Axes>"
            ]
          },
          "metadata": {
            "needs_background": "light"
          }
        }
      ]
    },
    {
      "cell_type": "code",
      "metadata": {
        "id": "iPBlBler0iiv",
        "colab": {
          "base_uri": "https://localhost:8080/",
          "height": 404
        },
        "outputId": "0a42c3a4-787c-48a9-e603-fd03e868b7bd"
      },
      "source": [
        "def class_probabilities(number_of_class):\n",
        "  model.eval()\n",
        "  actuals = []\n",
        "  probabilities = []\n",
        "  with tc.no_grad():\n",
        "    for image, label in test_dataloader:\n",
        "      image = image.to(device)\n",
        "      label = label.to(device)\n",
        "      results = model(image)\n",
        "      prediction = results.argmax(dim=1, keepdim=True)\n",
        "      actuals.extend(label.view_as(prediction) == number_of_class)\n",
        "      probabilities.extend(np.exp(results.cpu()[:, number_of_class]))\n",
        "\n",
        "  actuals = [i.item() for i in actuals]\n",
        "  probabilities = [i.item() for i in probabilities]\n",
        "\n",
        "  fpr, tpr, _ = roc_curve(actuals, probabilities)\n",
        "  roc_auc = auc(fpr, tpr)\n",
        "\n",
        "  return fpr, tpr, roc_auc\n",
        "\n",
        "fpr_dict ={}\n",
        "tpr_dict = {}\n",
        "roc_auc_dict = {}\n",
        "for i in range(5):\n",
        "  fpr, tpr, roc_auc = class_probabilities(i)\n",
        "  fpr_dict[i] = fpr\n",
        "  tpr_dict[i] = tpr\n",
        "  roc_auc_dict[i] = roc_auc\n",
        "\n",
        "colors = ['r', 'g', 'b', 'orange', 'black']\n",
        "\n",
        "plt.figure(figsize=[11,6])\n",
        "for i in range(5):\n",
        "  plt.plot(fpr_dict[i], tpr_dict[i], color = colors[i], label='ROC curve class: ' + classes[i] + ' (AUC = %0.2f)' % roc_auc_dict[i])\n",
        "plt.xlabel('False Positive Rate')\n",
        "plt.ylabel('True Positive Rate')\n",
        "plt.legend(loc=\"lower right\")\n",
        "plt.title(\"ROC curve\")\n",
        "\n",
        "plt.show()"
      ],
      "execution_count": 44,
      "outputs": [
        {
          "output_type": "display_data",
          "data": {
            "image/png": "[encoded data removed]",
            "text/plain": [
              "<Figure size 792x432 with 1 Axes>"
            ]
          },
          "metadata": {
            "needs_background": "light"
          }
        }
      ]
    }
  ]
}